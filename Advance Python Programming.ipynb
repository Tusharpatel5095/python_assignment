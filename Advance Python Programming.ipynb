{
 "cells": [
  {
   "cell_type": "markdown",
   "id": "7c9fae06-fc4b-429f-ba6c-3c0c57bf9bd6",
   "metadata": {},
   "source": [
    "# Python - Assignment 3 - Advance Python Programming "
   ]
  },
  {
   "cell_type": "markdown",
   "id": "adcc755e-cbe3-4669-a813-e9453b5f949f",
   "metadata": {},
   "source": [
    "1. Print on Screen"
   ]
  },
  {
   "cell_type": "code",
   "execution_count": 1,
   "id": "a78bfa13-f1b5-47ec-8e8c-711b256dfdc5",
   "metadata": {
    "tags": []
   },
   "outputs": [
    {
     "name": "stdout",
     "output_type": "stream",
     "text": [
      "Hello my name is Tushar and i am 20 years old\n"
     ]
    }
   ],
   "source": [
    "#Lab - Write a Python program to print a formatted string using print() and f-string\n",
    "name = 'Tushar'\n",
    "age = 20\n",
    "print(f\"Hello my name is {name} and i am {age} years old\")"
   ]
  },
  {
   "cell_type": "code",
   "execution_count": 3,
   "id": "6d1e889f-748f-45fc-8374-5fbcb5a414b0",
   "metadata": {
    "tags": []
   },
   "outputs": [
    {
     "name": "stdout",
     "output_type": "stream",
     "text": [
      "Hello, world!\n"
     ]
    }
   ],
   "source": [
    "#Practical Example 1 - Write a Python program to print \"Hello, world!\" on the screen\n",
    "print(\"Hello, world!\")"
   ]
  },
  {
   "cell_type": "markdown",
   "id": "ec0edf9a-de9d-43ce-a89f-7b79dfed3e0d",
   "metadata": {},
   "source": [
    "2. Reading Data from keyboard"
   ]
  },
  {
   "cell_type": "code",
   "execution_count": 3,
   "id": "e9adb5a6-18cb-414f-9991-29b7c7e3041a",
   "metadata": {
    "tags": []
   },
   "outputs": [
    {
     "name": "stdin",
     "output_type": "stream",
     "text": [
      "Enter your name :  Tushar\n",
      "Enter your age : 20\n"
     ]
    },
    {
     "name": "stdout",
     "output_type": "stream",
     "text": [
      "Hello my name is Tushar and i am 20 years old\n"
     ]
    }
   ],
   "source": [
    "name = input(\"Enter your name : \")\n",
    "age = int(input(\"Enter your age :\"))\n",
    "print(f\"Hello my name is {name} and i am {age} years old\")"
   ]
  },
  {
   "cell_type": "code",
   "execution_count": 5,
   "id": "1021cc89-3af2-41ae-887b-f43f02457527",
   "metadata": {
    "tags": []
   },
   "outputs": [
    {
     "name": "stdin",
     "output_type": "stream",
     "text": [
      "Enter a string :  hello\n",
      "Enter an integer :  12\n",
      "Enter a float :  2.5\n"
     ]
    },
    {
     "name": "stdout",
     "output_type": "stream",
     "text": [
      "hello 12 2.5\n"
     ]
    }
   ],
   "source": [
    "#Practical Example 2 - Write a Python program to read to string, an integer and a float from the keyboard and display them\n",
    "s = input(\"Enter a string : \")\n",
    "n = int(input(\"Enter an integer : \"))\n",
    "f = float(input(\"Enter a float : \"))\n",
    "print(s, n, f)"
   ]
  },
  {
   "cell_type": "markdown",
   "id": "acc87e43-f2cb-4123-9301-ab6b6066bea3",
   "metadata": {},
   "source": [
    "3. Opening and closing files "
   ]
  },
  {
   "cell_type": "code",
   "execution_count": 6,
   "id": "3ff13d99-cd96-40fe-bd46-de1575559670",
   "metadata": {
    "tags": []
   },
   "outputs": [],
   "source": [
    "#Practical Example 3 - Write a Python program to create a file and write a string into it\n"
   ]
  },
  {
   "cell_type": "markdown",
   "id": "5ce7081c-9e55-4e5f-a34e-8ba61d23ac6f",
   "metadata": {},
   "source": [
    "4. Reading and Writing files"
   ]
  },
  {
   "cell_type": "code",
   "execution_count": 7,
   "id": "d5a200fb-8b42-44c3-a70c-9396f92df17b",
   "metadata": {
    "tags": []
   },
   "outputs": [],
   "source": [
    "#Lab - Write a Python program to write multiple strings into a file\n",
    "f = open('sample.txt', 'w') \n",
    "l = ['Hello\\n', 'Welcome to class\\n', 'Python programming\\n']\n",
    "f.writelines(l)\n",
    "f.close()"
   ]
  },
  {
   "cell_type": "code",
   "execution_count": 9,
   "id": "02bb5eb7-6d8f-4ff8-8310-2dae892a104d",
   "metadata": {
    "tags": []
   },
   "outputs": [],
   "source": [
    "#Practical Example 4 - Write a python program to create a file and print the string into the file\n",
    "f = open('sample2.txt', 'w')\n",
    "f.write('Hello world!')\n",
    "f.close()"
   ]
  },
  {
   "cell_type": "code",
   "execution_count": 11,
   "id": "af9d7974-f0e1-4adb-84ab-3f9150cef4cc",
   "metadata": {
    "tags": []
   },
   "outputs": [
    {
     "name": "stdout",
     "output_type": "stream",
     "text": [
      "Hello world!\n"
     ]
    }
   ],
   "source": [
    "#Write a python program to read a file and print the data on the console \n",
    "f = open('sample2.txt', 'r')\n",
    "x = f.read()\n",
    "print(x)"
   ]
  },
  {
   "cell_type": "code",
   "execution_count": 13,
   "id": "81eba318-f150-4955-8330-c900d1f891f1",
   "metadata": {
    "tags": []
   },
   "outputs": [
    {
     "data": {
      "text/plain": [
       "12"
      ]
     },
     "execution_count": 13,
     "metadata": {},
     "output_type": "execute_result"
    }
   ],
   "source": [
    "#Write a python program to check the current position of the file cursor using tell()\n",
    "f.tell()"
   ]
  },
  {
   "cell_type": "markdown",
   "id": "88343fb7-19f5-4a08-b355-69ef3111b84a",
   "metadata": {},
   "source": [
    "5. Exception Handling "
   ]
  },
  {
   "cell_type": "code",
   "execution_count": 11,
   "id": "67599c85-fb5c-44fd-b7ba-746d65d1b194",
   "metadata": {
    "tags": []
   },
   "outputs": [
    {
     "name": "stdin",
     "output_type": "stream",
     "text": [
      "Enter a number :  12\n",
      "Enter another number :  w\n"
     ]
    },
    {
     "name": "stdout",
     "output_type": "stream",
     "text": [
      "Didn't enter an integer\n"
     ]
    }
   ],
   "source": [
    "#Practical Example 7 - Write a python program to handle exceptions in a calculator (like division by zero,invalid input)\n",
    "try:\n",
    "    x = int(input(\"Enter a number : \"))\n",
    "    y = int(input(\"Enter another number : \"))\n",
    "    \n",
    "    print(x / y)\n",
    "except ZeroDivisionError:\n",
    "    print(\"Division by zero error\")\n",
    "except ValueError:\n",
    "    print(\"Didn't enter an integer\")"
   ]
  },
  {
   "cell_type": "code",
   "execution_count": 1,
   "id": "c0ec4aa4-94b7-4428-ac32-0e2854fe66b9",
   "metadata": {
    "tags": []
   },
   "outputs": [
    {
     "name": "stdin",
     "output_type": "stream",
     "text": [
      "Enter a number :  1\n",
      "Enter another number :  2\n"
     ]
    },
    {
     "name": "stdout",
     "output_type": "stream",
     "text": [
      "0.5\n",
      "File doesn't exist\n"
     ]
    }
   ],
   "source": [
    "#Practical Examples 8 - Write a python program to handle multiple exceptions (like file not found, division by zero)\n",
    "try:\n",
    "    x = int(input(\"Enter a number : \"))\n",
    "    y = int(input(\"Enter another number : \"))\n",
    "    print(x / y)\n",
    "    f = open(\"sam1.txt\", 'r')\n",
    "except ZeroDivisionError:\n",
    "    print(\"Division by zero error\")\n",
    "except ValueError:\n",
    "    print(\"Didn't enter an integer\")\n",
    "except FileNotFoundError:\n",
    "    print(\"File doesn't exist\")"
   ]
  },
  {
   "cell_type": "code",
   "execution_count": 10,
   "id": "9302e902-7323-4751-a2dc-97f826df40d3",
   "metadata": {
    "tags": []
   },
   "outputs": [
    {
     "name": "stdin",
     "output_type": "stream",
     "text": [
      "Enter the file mode (r / w) :  w\n"
     ]
    },
    {
     "name": "stdout",
     "output_type": "stream",
     "text": [
      "Used wrong mode\n"
     ]
    }
   ],
   "source": [
    "#Practical Examples 9 - Write python program to handle file exceptions and use the finally block for closing the file\n",
    "try:\n",
    "    m = input(\"Enter the file mode (r / w) : \")\n",
    "    f = open(\"sample.txt\", m)\n",
    "    f.read()\n",
    "except :\n",
    "    print(\"Used wrong mode\")\n",
    "finally:\n",
    "    f.close()"
   ]
  },
  {
   "cell_type": "code",
   "execution_count": 12,
   "id": "343dfb5e-d48c-4e03-99d1-4702bddfc953",
   "metadata": {
    "tags": []
   },
   "outputs": [
    {
     "name": "stdin",
     "output_type": "stream",
     "text": [
      "Enter Y to continue or N to exit :  q\n"
     ]
    },
    {
     "name": "stdout",
     "output_type": "stream",
     "text": [
      "Invalid Input, Enter (Y/N)\n"
     ]
    }
   ],
   "source": [
    "#Practical Examples 10 - Write python program to print custom exceptions\n",
    "try:\n",
    "    n = input(\"Enter Y to continue or N to exit : \").lower()\n",
    "    if n not in ['y', 'n']:\n",
    "        raise ValueError(\"Invalid Input, Enter (Y/N)\")\n",
    "except ValueError as ve:\n",
    "    print(ve)"
   ]
  },
  {
   "cell_type": "markdown",
   "id": "f7ce9147-344d-4bae-bfe2-fa48d230ae65",
   "metadata": {},
   "source": [
    "6. Class and Object (OOP concepts)"
   ]
  },
  {
   "cell_type": "code",
   "execution_count": 14,
   "id": "8fea34e2-7d98-4130-84fe-e58bf2148055",
   "metadata": {
    "tags": []
   },
   "outputs": [
    {
     "name": "stdout",
     "output_type": "stream",
     "text": [
      "Pin = 1234 \n",
      "Balance = 10000\n"
     ]
    }
   ],
   "source": [
    "#Practical Examples 11 - Write a python program to create a class and access the properties of the class using an object\n",
    "class atm:\n",
    "    def __init__ (self, pin, bal):\n",
    "        self.pin = pin\n",
    "        self.bal = bal\n",
    "a = atm('1234', 10000)\n",
    "print(f\"Pin = {a.pin} \\nBalance = {a.bal}\")"
   ]
  },
  {
   "cell_type": "code",
   "execution_count": 17,
   "id": "ec67eb25-bfb6-40e6-b229-aeb4f6a0aa71",
   "metadata": {
    "tags": []
   },
   "outputs": [],
   "source": [
    "#Practical Examples 12 - Write a python program to demonstrate the use of local and global variables in a class\n",
    "count = 0\n",
    "\n",
    "class Counter:\n",
    "    def increment(self):\n",
    "        global count\n",
    "        count += 1\n",
    "        print(\"Global count:\", count)\n",
    "\n",
    "    def show_local(self):\n",
    "        local_count = 100\n",
    "        print(\"Local count:\", local_count)\n",
    "\n",
    "c = Counter()\n",
    "\n",
    "c.increment()\n",
    "c.show_local()\n",
    "c.increment()"
   ]
  },
  {
   "cell_type": "markdown",
   "id": "9cf4a54b-0380-4897-b825-39d772a76fc0",
   "metadata": {},
   "source": [
    "7. Inheritance"
   ]
  },
  {
   "cell_type": "code",
   "execution_count": 2,
   "id": "60bb5a4c-254f-4ef8-9e07-182c01a2e28c",
   "metadata": {
    "tags": []
   },
   "outputs": [
    {
     "name": "stdout",
     "output_type": "stream",
     "text": [
      "Bark\n"
     ]
    }
   ],
   "source": [
    "#Practical Example 13 - Write a python program to show single inheritance\n",
    "class Animal:\n",
    "    def sound(self):\n",
    "        print(\"Bark\")\n",
    "\n",
    "class Dog(Animal):\n",
    "    pass\n",
    "\n",
    "d = Dog()\n",
    "d.sound()"
   ]
  },
  {
   "cell_type": "code",
   "execution_count": 17,
   "id": "bf313823-c903-471b-8043-6578397f7ef0",
   "metadata": {
    "tags": []
   },
   "outputs": [
    {
     "name": "stdout",
     "output_type": "stream",
     "text": [
      "Land\n",
      "shop\n"
     ]
    }
   ],
   "source": [
    "class grandfather:\n",
    "    def Property(self):\n",
    "        print(\"Land\")\n",
    "class father(grandfather):\n",
    "    def Property(self):\n",
    "        print(\"shop\")\n",
    "class child(father):\n",
    "    def heritage(self):\n",
    "        grandfather.Property(self)\n",
    "        father.Property(self)\n",
    "\n",
    "c = child()\n",
    "c.heritage()"
   ]
  },
  {
   "cell_type": "code",
   "execution_count": 18,
   "id": "4a23c44c-f8f4-4331-9f98-50e7750de9d0",
   "metadata": {
    "tags": []
   },
   "outputs": [
    {
     "name": "stdout",
     "output_type": "stream",
     "text": [
      "Gardening\n",
      "Painting\n"
     ]
    }
   ],
   "source": [
    "#Practical Example 15 - Write a python program to show multiple inheritance\n",
    "class Father:\n",
    "    def skill(self):\n",
    "         print(\"Gardening\")\n",
    "\n",
    "class Mother:\n",
    "    def talent(self):\n",
    "        print(\"Painting\")\n",
    "\n",
    "class Child(Father, Mother):\n",
    "    def parent(self):\n",
    "        Father.skill(self)\n",
    "        Mother.talent(self)\n",
    "\n",
    "c = Child()\n",
    "c.parent()"
   ]
  },
  {
   "cell_type": "code",
   "execution_count": 19,
   "id": "1f7316bb-45e6-4127-97ad-8eea8efb9f6b",
   "metadata": {
    "tags": []
   },
   "outputs": [
    {
     "name": "stdout",
     "output_type": "stream",
     "text": [
      "This is the parent class\n",
      "Feature of Child1\n",
      "This is the parent class\n",
      "Feature of Child2\n"
     ]
    }
   ],
   "source": [
    "#Practical Example 16 - Write a python program to show hierarchical inheritance\n",
    "class Parent:\n",
    "    def show(self):\n",
    "        return \"This is the parent class\"\n",
    "\n",
    "class Child1(Parent):\n",
    "    def feature1(self):\n",
    "        return \"Feature of Child1\"\n",
    "\n",
    "class Child2(Parent):\n",
    "    def feature2(self):\n",
    "        return \"Feature of Child2\"\n",
    "\n",
    "c1 = Child1()\n",
    "print(c1.show())\n",
    "print(c1.feature1())\n",
    "\n",
    "c2 = Child2()\n",
    "print(c2.show())\n",
    "print(c2.feature2())"
   ]
  },
  {
   "cell_type": "code",
   "execution_count": 12,
   "id": "723c290b-1a5d-4697-93eb-dd31260acff4",
   "metadata": {
    "tags": []
   },
   "outputs": [
    {
     "name": "stdout",
     "output_type": "stream",
     "text": [
      "General Info\n",
      "Studies subjects\n",
      "Plays sports\n",
      "Studies and plays\n"
     ]
    }
   ],
   "source": [
    "#Practical Example 17 - Write a python program to show hybrid inheritance\n",
    "class Person:\n",
    "    def info(self):\n",
    "        return \"General Info\"\n",
    "\n",
    "class Student(Person):\n",
    "    def study(self):\n",
    "        return \"Studies subjects\"\n",
    "\n",
    "class Athlete:\n",
    "    def play(self):\n",
    "        return \"Plays sports\"\n",
    "\n",
    "class StudentAthlete(Student, Athlete):\n",
    "    def role(self):\n",
    "        return \"Studies and plays\"\n",
    "\n",
    "sa = StudentAthlete()\n",
    "print(sa.info())\n",
    "print(sa.study())\n",
    "print(sa.play())\n",
    "print(sa.role())"
   ]
  },
  {
   "cell_type": "code",
   "execution_count": 15,
   "id": "11888168-0006-4b75-bde4-3dc7335114c1",
   "metadata": {
    "tags": []
   },
   "outputs": [
    {
     "name": "stdout",
     "output_type": "stream",
     "text": [
      "This is the parent class\n",
      "and this is the child class\n"
     ]
    }
   ],
   "source": [
    "#Practical Example 18 - Write a python program to demonstrate the use of super() in inheritance\n",
    "class Parent:\n",
    "    def display(self):\n",
    "        return \"This is the parent class\"\n",
    "\n",
    "class Child(Parent):\n",
    "    def display(self):\n",
    "        parent_message = super().display()\n",
    "        message = parent_message + \"\\nand this is the child class\"\n",
    "        return message\n",
    "c = Child()\n",
    "print(c.display())"
   ]
  },
  {
   "cell_type": "markdown",
   "id": "a641418c-2ebc-45ec-9cb2-ddde2b70421d",
   "metadata": {},
   "source": [
    "8. Method Overloading and Overriding"
   ]
  },
  {
   "cell_type": "code",
   "execution_count": 22,
   "id": "55a96c49-e78c-491c-a6f1-5b6f11dc8806",
   "metadata": {
    "tags": []
   },
   "outputs": [
    {
     "name": "stdout",
     "output_type": "stream",
     "text": [
      "12\n",
      "15\n",
      "11.0\n",
      "15.0\n"
     ]
    }
   ],
   "source": [
    "#Practical Examples 19 - Write a python program to show method overloading\n",
    "# note use default args to use different amount of args while passing parameters\n",
    "class addition:\n",
    "    def add(self, a, b, c = 0):\n",
    "        print(a + b + c)\n",
    "a = addition()\n",
    "a.add(10,2)\n",
    "a.add(10,2,3)\n",
    "a.add(10.5,0.5)\n",
    "a.add(10.5, 4, 0.5)"
   ]
  },
  {
   "cell_type": "code",
   "execution_count": 22,
   "id": "b2b7ab2a-41f5-4264-baac-e67229fc7392",
   "metadata": {
    "tags": []
   },
   "outputs": [
    {
     "name": "stdout",
     "output_type": "stream",
     "text": [
      "The animal makes a sound.\n",
      "The dog barks.\n",
      "The cat meows.\n"
     ]
    }
   ],
   "source": [
    "#Practical Examples 20 - Write a python program to show method overriding\n",
    "class Animal:\n",
    "    def speak(self):\n",
    "        print(\"The animal makes a sound.\")\n",
    "\n",
    "class Dog(Animal):\n",
    "    def speak(self):\n",
    "        print(\"The dog barks.\")\n",
    "\n",
    "class Cat(Animal):\n",
    "    def speak(self):\n",
    "        print(\"The cat meows.\")\n",
    "\n",
    "animal = Animal()\n",
    "dog = Dog()\n",
    "cat = Cat()\n",
    "\n",
    "animal.speak()\n",
    "dog.speak()\n",
    "cat.speak()"
   ]
  },
  {
   "cell_type": "markdown",
   "id": "2d73ce54-6f72-401c-813f-1ff1af308979",
   "metadata": {},
   "source": [
    "9. SQLite3 and PyMySQL (Database Connectors)"
   ]
  },
  {
   "cell_type": "code",
   "execution_count": 10,
   "id": "4b986560-0c96-4d30-87f1-36219b402f2e",
   "metadata": {
    "tags": []
   },
   "outputs": [
    {
     "name": "stdout",
     "output_type": "stream",
     "text": [
      "Table created successfully\n"
     ]
    }
   ],
   "source": [
    "#Practical Examples 21 - Write a python program to create a database and a table using SQLite3\n",
    "import sqlite3 as sql\n",
    "connection = sql.connect('my_database.db') \n",
    "cursor = connection.cursor()\n",
    "cursor.execute(\"\"\"CREATE TABLE IF NOT EXISTS users (\n",
    "    id INTEGER PRIMARY KEY AUTOINCREMENT,\n",
    "    name TEXT NOT NULL,\n",
    "    email TEXT UNIQUE NOT NULL,\n",
    "    age INTEGER\n",
    ");\"\"\")\n",
    "\n",
    "print(\"Table created successfully\")\n",
    "connection.commit()\n",
    "connection.close()"
   ]
  },
  {
   "cell_type": "code",
   "execution_count": 12,
   "id": "8876151b-1c3a-4a9c-b41f-424d106ca43b",
   "metadata": {
    "tags": []
   },
   "outputs": [
    {
     "name": "stdout",
     "output_type": "stream",
     "text": [
      "Data added successfully\n",
      "(1, 'tushar', 'tushar123@gmail.com', 20)\n"
     ]
    }
   ],
   "source": [
    "#Practical Examples 22 - Write a python program to insert data into an SQlite3 database and fetch it\n",
    "import sqlite3 as sql\n",
    "connection = sql.connect('my_database.db')\n",
    "cursor = connection.cursor()\n",
    "#inserting data\n",
    "cursor.execute(\"insert into users values(1,'tushar', 'tushar123@gmail.com', 20)\")\n",
    "print(\"Data added successfully\")\n",
    "# fetching the data\n",
    "cursor.execute(\"select * from users\")\n",
    "r = cursor.fetchall()\n",
    "#printing the data\n",
    "for i in r:\n",
    "    print(i)\n",
    "    \n",
    "connection.commit()\n",
    "connection.close()"
   ]
  },
  {
   "cell_type": "markdown",
   "id": "0ad9e7e6-a49a-4373-8364-4cf1ee14ac11",
   "metadata": {},
   "source": [
    "10. Search and Match Functions"
   ]
  },
  {
   "cell_type": "code",
   "execution_count": 6,
   "id": "e30aa35e-1b42-4405-8e14-6dcbd80e6b8c",
   "metadata": {
    "tags": []
   },
   "outputs": [
    {
     "name": "stdout",
     "output_type": "stream",
     "text": [
      "<re.Match object; span=(10, 13), match='cat'>\n"
     ]
    }
   ],
   "source": [
    "#Practical Examples 23 - Write a python program to seacrh for a word in a string using re.search()\n",
    "import re\n",
    "s = str(re.search(r\"cat\", \"is that a cat?\"))\n",
    "print(s)"
   ]
  },
  {
   "cell_type": "code",
   "execution_count": 14,
   "id": "1f5dbcd4-26ff-411e-9b05-c7784b4a53ae",
   "metadata": {
    "tags": []
   },
   "outputs": [
    {
     "name": "stdout",
     "output_type": "stream",
     "text": [
      "None\n",
      "<re.Match object; span=(0, 3), match='cat'>\n"
     ]
    }
   ],
   "source": [
    "#Practical Examples 24 - Write a python program to match a word in a string using re.match()\n",
    "import re\n",
    "s = str(re.match(r\"cat\", \"is that a cat?\"))\n",
    "print(s)\n",
    "\n",
    "s = str(re.search(r\"cat\", \"cat have four legs?\"))\n",
    "print(s)"
   ]
  }
 ],
 "metadata": {
  "kernelspec": {
   "display_name": "Python 3 (ipykernel)",
   "language": "python",
   "name": "python3"
  },
  "language_info": {
   "codemirror_mode": {
    "name": "ipython",
    "version": 3
   },
   "file_extension": ".py",
   "mimetype": "text/x-python",
   "name": "python",
   "nbconvert_exporter": "python",
   "pygments_lexer": "ipython3",
   "version": "3.12.7"
  }
 },
 "nbformat": 4,
 "nbformat_minor": 5
}
