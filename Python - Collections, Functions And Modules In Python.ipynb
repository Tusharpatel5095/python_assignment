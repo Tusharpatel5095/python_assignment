{
 "cells": [
  {
   "cell_type": "markdown",
   "id": "47698da6-2f86-4877-93a1-8e164e5147f8",
   "metadata": {},
   "source": [
    "### Python - Assignment 2 - Collections, functions and Modules\n"
   ]
  },
  {
   "cell_type": "markdown",
   "id": "6f7ea993-606b-4a25-95a9-eb0b180d0bdf",
   "metadata": {},
   "source": [
    "1. Accessing list"
   ]
  },
  {
   "cell_type": "code",
   "execution_count": 1,
   "id": "80ce3958-15b4-4a99-a7d3-5ff08023191d",
   "metadata": {},
   "outputs": [],
   "source": [
    "# 1.Write a Python program to access elements at different index positions.\n"
   ]
  },
  {
   "cell_type": "code",
   "execution_count": 1,
   "id": "c77c6aa9-89fe-4b78-9ee5-8267c264725b",
   "metadata": {},
   "outputs": [],
   "source": [
    "# Write a Python program to create a list of multiple data type elements.\n",
    "l = [1,2,10,5,'Tushar']"
   ]
  },
  {
   "cell_type": "code",
   "execution_count": 3,
   "id": "d8e1f872-916d-432f-92d8-732273d27d41",
   "metadata": {},
   "outputs": [
    {
     "data": {
      "text/plain": [
       "5"
      ]
     },
     "execution_count": 3,
     "metadata": {},
     "output_type": "execute_result"
    }
   ],
   "source": [
    "#  Write a Python program to find the length of a list using the len() function\n",
    "len(l)"
   ]
  },
  {
   "cell_type": "markdown",
   "id": "9fa53e2d-c3a7-4881-82eb-0da0aa5b8c28",
   "metadata": {},
   "source": [
    "2. List Operators"
   ]
  },
  {
   "cell_type": "code",
   "execution_count": 7,
   "id": "2671c46d-eaf7-4302-96c5-d303f826f6d4",
   "metadata": {},
   "outputs": [
    {
     "data": {
      "text/plain": [
       "[1, 10, 2, 3, 4, 20]"
      ]
     },
     "execution_count": 7,
     "metadata": {},
     "output_type": "execute_result"
    }
   ],
   "source": [
    "# Write a Python program to add elements to a list using insert() and append()\n",
    "l = [1,2,3,4]\n",
    "l.insert(1,10) \n",
    "l.append(20)\n",
    "l"
   ]
  },
  {
   "cell_type": "code",
   "execution_count": 5,
   "id": "bff73e16-0223-4989-895d-57ce42d05e88",
   "metadata": {},
   "outputs": [
    {
     "data": {
      "text/plain": [
       "[1, 10, 5]"
      ]
     },
     "execution_count": 5,
     "metadata": {},
     "output_type": "execute_result"
    }
   ],
   "source": [
    "# Write a python program to remove elements from a list using pop() and remove()\n",
    "l = [1,2,10,5,'Tushar']\n",
    "l.remove(2)\n",
    "l.pop()\n",
    "l"
   ]
  },
  {
   "cell_type": "markdown",
   "id": "63fb071a-725e-4d15-86a8-8ef0d47573ef",
   "metadata": {},
   "source": [
    "3. Working with lists"
   ]
  },
  {
   "cell_type": "code",
   "execution_count": 14,
   "id": "1e24666e-af83-4fde-b464-c2a3dff103c9",
   "metadata": {},
   "outputs": [
    {
     "data": {
      "text/plain": [
       "[10, 20, 50, 90, 100]"
      ]
     },
     "execution_count": 14,
     "metadata": {},
     "output_type": "execute_result"
    }
   ],
   "source": [
    "# Write a python program to sort a list using both .sort() and sorted()\n",
    "l=[100,20,90,10,50]\n",
    "l.sort()\n",
    "l"
   ]
  },
  {
   "cell_type": "code",
   "execution_count": 19,
   "id": "baaa1675-6ce6-4f28-aaf7-c0117695599e",
   "metadata": {},
   "outputs": [
    {
     "data": {
      "text/plain": [
       "[10, 20, 50, 90, 100]"
      ]
     },
     "execution_count": 19,
     "metadata": {},
     "output_type": "execute_result"
    }
   ],
   "source": [
    "l=[100,20,90,10,50]\n",
    "sorted(l)"
   ]
  },
  {
   "cell_type": "code",
   "execution_count": 7,
   "id": "51e3c1d7-5240-4f55-aecd-225abfbb547a",
   "metadata": {},
   "outputs": [
    {
     "name": "stdout",
     "output_type": "stream",
     "text": [
      "100\n",
      "20\n",
      "90\n",
      "10\n",
      "50\n",
      "Tushar\n",
      "patel\n"
     ]
    }
   ],
   "source": [
    "# Write a python program to iterate through a lst and print each element\n",
    "l=[100,20,90,10,50,'Tushar','patel']\n",
    "for i in l:\n",
    "    print(i)"
   ]
  },
  {
   "cell_type": "code",
   "execution_count": 9,
   "id": "5969effe-74dd-4a7a-837f-339cd7910fcb",
   "metadata": {},
   "outputs": [
    {
     "name": "stdout",
     "output_type": "stream",
     "text": [
      "[100, 20, 90, 10, 50, 'Tushar', 'patel']\n"
     ]
    }
   ],
   "source": [
    "# ) Write a Python program to insert elements into an empty list using a for loop and append(). \n",
    "l1=[]\n",
    "l=[100,20,90,10,50,'Tushar','patel']\n",
    "for i in l:\n",
    "    l1.append(i)\n",
    "print(l1)"
   ]
  },
  {
   "cell_type": "markdown",
   "id": "7e922fe2-4a2a-499e-b5ec-e7237601008f",
   "metadata": {},
   "source": [
    "4. Tuple"
   ]
  },
  {
   "cell_type": "code",
   "execution_count": 32,
   "id": "0ce4a007-9440-4448-876e-70d35ec132c4",
   "metadata": {},
   "outputs": [
    {
     "data": {
      "text/plain": [
       "(100, 20, 90, 10, 50, 'kevin', 'patel')"
      ]
     },
     "execution_count": 32,
     "metadata": {},
     "output_type": "execute_result"
    }
   ],
   "source": [
    "# Write a Python program to convert a list into a tuple.\n",
    "t = tuple(l)\n",
    "t"
   ]
  },
  {
   "cell_type": "code",
   "execution_count": 11,
   "id": "3ac9f9c3-e806-4c36-b44f-abb2ca694b26",
   "metadata": {},
   "outputs": [],
   "source": [
    "# Write a Python program to create a tuple with multiple data types.\n",
    "t =(1,2,3.14,'Tushar')"
   ]
  },
  {
   "cell_type": "code",
   "execution_count": 13,
   "id": "0891677a-b0a0-41f7-8d44-cbfc587d3ecd",
   "metadata": {},
   "outputs": [
    {
     "name": "stdout",
     "output_type": "stream",
     "text": [
      "(10, 20, 30, 40, 50, 10, 70, 80, 90, 100)\n"
     ]
    }
   ],
   "source": [
    "#  Write a Python program to concatenate two tuples into one.\n",
    "t1=(10,20,30,40,50)\n",
    "t2=(10,70,80,90,100)\n",
    "print(t1+t2)"
   ]
  },
  {
   "cell_type": "code",
   "execution_count": 40,
   "id": "874006ff-848b-458b-bcbb-0673bad1e7d3",
   "metadata": {},
   "outputs": [
    {
     "data": {
      "text/plain": [
       "10"
      ]
     },
     "execution_count": 40,
     "metadata": {},
     "output_type": "execute_result"
    }
   ],
   "source": [
    "#  Write a Python program to access the value of the first index in a tuple.\n",
    "t1=(10,20,30,40,50)\n",
    "t1[0]"
   ]
  },
  {
   "cell_type": "markdown",
   "id": "b183f645-fafa-4d43-9fe9-ccbdf65e4fd5",
   "metadata": {},
   "source": [
    "5. Accessing Tuples "
   ]
  },
  {
   "cell_type": "code",
   "execution_count": 47,
   "id": "36bcbc4b-7bd8-4774-b828-7b5ff0d4d001",
   "metadata": {},
   "outputs": [
    {
     "data": {
      "text/plain": [
       "(2, 3, 4, 5)"
      ]
     },
     "execution_count": 47,
     "metadata": {},
     "output_type": "execute_result"
    }
   ],
   "source": [
    "# Write a Python program to access values between index 1 and 5 in a tuple. \n",
    "t = (1,2,3,4,5)\n",
    "t[1:5]"
   ]
  },
  {
   "cell_type": "code",
   "execution_count": 53,
   "id": "0830fd28-ca94-4c50-b814-8f3b90a3fc48",
   "metadata": {},
   "outputs": [
    {
     "data": {
      "text/plain": [
       "(1, 3, 5)"
      ]
     },
     "execution_count": 53,
     "metadata": {},
     "output_type": "execute_result"
    }
   ],
   "source": [
    "# Write a Python program to access alternate values between index 1 and 5 in a tuple.\n",
    "t[::2]"
   ]
  },
  {
   "cell_type": "code",
   "execution_count": 54,
   "id": "973e0c98-2468-4b1f-a769-f287b6882510",
   "metadata": {},
   "outputs": [
    {
     "data": {
      "text/plain": [
       "5"
      ]
     },
     "execution_count": 54,
     "metadata": {},
     "output_type": "execute_result"
    }
   ],
   "source": [
    "# Write a Python program to access the value from the last index in a tuple. \n",
    "t[-1]"
   ]
  },
  {
   "cell_type": "markdown",
   "id": "4cb5010d-9bea-493f-8901-4e5977f08d75",
   "metadata": {},
   "source": [
    "6. Dictionaries"
   ]
  },
  {
   "cell_type": "code",
   "execution_count": 15,
   "id": "886f84e7-b4ba-448a-b125-03d3f1cde434",
   "metadata": {},
   "outputs": [
    {
     "data": {
      "text/plain": [
       "'Tushar'"
      ]
     },
     "execution_count": 15,
     "metadata": {},
     "output_type": "execute_result"
    }
   ],
   "source": [
    "# Write a Python program to create a dictionary with 6 key-value pairs.\n",
    "# Write a Python program to access values using dictionary keys.\n",
    "d = {'name_1':'Tushar','name_2':'mantha','name_3':'het','name_4':'sahil','name_5':'meet','name_6':'dipak'}\n",
    "d['name_1']"
   ]
  },
  {
   "cell_type": "markdown",
   "id": "d27169b5-d9e7-44d1-833d-f4809ecbec4a",
   "metadata": {},
   "source": [
    "7. Working with Dictionaries"
   ]
  },
  {
   "cell_type": "code",
   "execution_count": 95,
   "id": "70db1ff5-2a18-4127-96e1-0ef522b0376e",
   "metadata": {},
   "outputs": [],
   "source": [
    "#  Write a Python program to update a value at a particular key in a dictionary.\n",
    "d['name_1']='xyz'"
   ]
  },
  {
   "cell_type": "code",
   "execution_count": 96,
   "id": "57129648-1afd-4733-bca4-b83aad10075f",
   "metadata": {},
   "outputs": [
    {
     "name": "stdout",
     "output_type": "stream",
     "text": [
      "dict_keys(['k', 'e', 'v', 'i', 'n', 'name_1'])\n",
      "dict_values([2, 2, 2, 2, 2, 'xyz'])\n"
     ]
    },
    {
     "data": {
      "text/plain": [
       "{'k': 2, 'e': 2, 'v': 2, 'i': 2, 'n': 2, 'name_1': 'xyz'}"
      ]
     },
     "execution_count": 96,
     "metadata": {},
     "output_type": "execute_result"
    }
   ],
   "source": [
    "#  Write a Python program to separate keys and values from a dictionary using keys() and values() methods.\n",
    "print(d.keys())\n",
    "print(d.values())\n",
    "d"
   ]
  },
  {
   "cell_type": "code",
   "execution_count": 17,
   "id": "82d801fa-6d16-4430-99a0-74df33a95d4c",
   "metadata": {},
   "outputs": [
    {
     "name": "stdout",
     "output_type": "stream",
     "text": [
      "{'id': 101, 'name': 'Tushar', 'dep': 'sales'}\n"
     ]
    }
   ],
   "source": [
    "# Write a Python program to convert two lists into one dictionary using a for loop.\n",
    "l1 = ['id','name','dep']\n",
    "l2 = [101,'Tushar','sales']\n",
    "dic = {}\n",
    "for i in range(len(l1)):\n",
    "    dic[l1[i]] = l2[i]\n",
    "print(dic)"
   ]
  },
  {
   "cell_type": "code",
   "execution_count": 98,
   "id": "b2b2f9ef-e491-423e-bf83-15f90869e363",
   "metadata": {},
   "outputs": [
    {
     "name": "stdout",
     "output_type": "stream",
     "text": [
      "Enter any string :  asdfghjklasdfghjkl\n"
     ]
    },
    {
     "name": "stdout",
     "output_type": "stream",
     "text": [
      "{'a': 2, 's': 2, 'd': 2, 'f': 2, 'g': 2, 'h': 2, 'j': 2, 'k': 2, 'l': 2}\n"
     ]
    }
   ],
   "source": [
    "# Write a Python program to count how many times each character appears in a string.\n",
    "s = input(\"Enter any string : \")\n",
    "d = {}\n",
    "for i in s:\n",
    "    d[i]=s.count(i)\n",
    "print(d)"
   ]
  },
  {
   "cell_type": "markdown",
   "id": "f63281f4-4a61-41ea-a844-1120b901ffbf",
   "metadata": {},
   "source": [
    "8. Functions"
   ]
  },
  {
   "cell_type": "code",
   "execution_count": 19,
   "id": "b08d2547-dda4-48f7-a676-a1369c972439",
   "metadata": {},
   "outputs": [
    {
     "name": "stdout",
     "output_type": "stream",
     "text": [
      "Tushar\n"
     ]
    }
   ],
   "source": [
    "# Write a Python program to create a function that takes a string as input and prints it. \n",
    "def Str(x):\n",
    "    print(x)\n",
    "Str(\"Tushar\")"
   ]
  },
  {
   "cell_type": "code",
   "execution_count": null,
   "id": "055bfcf8",
   "metadata": {},
   "outputs": [],
   "source": [
    "# Write a Python program to create a calculator using functions. \n",
    "def add(x,y):\n",
    "    return x+y\n",
    "def subtraction(x,y):\n",
    "    return x-y\n",
    "def multiply(x,y):\n",
    "    return x*y\n",
    "def divide(x,y):\n",
    "    return x/y\n",
    "x = True\n",
    "while x:\n",
    "    print(\"1. Addition \\n2. Subtraction \\n3. Multiplication \\n4. Division \\n5. Exit\")\n",
    "    n = int(input(\"Select a function : \"))\n",
    "    if n < 6:\n",
    "        if n < 5:\n",
    "            a = int(input(\"Enter a number : \"))\n",
    "            b = int(input(\"Enter another number : \"))\n",
    "            if n == 1:\n",
    "                print(f\"Ans = {add(a,b)}\")\n",
    "            elif n ==2:\n",
    "                print(f\"Ans = {subtraction(a,b)}\")\n",
    "            elif n == 3:\n",
    "                print(f\"Ans = {multiply(a,b)}\")\n",
    "            elif n == 4:\n",
    "                print(f\"Ans = {divide(a,b)}\")\n",
    "            else:\n",
    "                print(\"Invalid Operation\")\n",
    "        else:\n",
    "            print(\"You are Exit \")\n",
    "            x = False\n",
    "    else:\n",
    "        print(\"Please enter valid operation\")"
   ]
  },
  {
   "cell_type": "code",
   "execution_count": 11,
   "id": "3c7efeda-064c-43fb-8e48-0087a9040178",
   "metadata": {},
   "outputs": [
    {
     "name": "stdout",
     "output_type": "stream",
     "text": [
      "3\n"
     ]
    }
   ],
   "source": [
    "# Write a Python program to create a parameterized function that takes two arguments and prints their sum. \n",
    "def add(a,b):\n",
    "    print(a+b)\n",
    "add(1,2)"
   ]
  },
  {
   "cell_type": "code",
   "execution_count": 14,
   "id": "0f319ffe-8239-4799-8d2d-b7845f00e9a2",
   "metadata": {},
   "outputs": [
    {
     "data": {
      "text/plain": [
       "36"
      ]
     },
     "execution_count": 14,
     "metadata": {},
     "output_type": "execute_result"
    }
   ],
   "source": [
    "# Write a Python program to create a lambda function with one expression.\n",
    "a = lambda a: a**2\n",
    "a(6)"
   ]
  },
  {
   "cell_type": "code",
   "execution_count": 19,
   "id": "2b58a286-b8d1-453c-9bc0-799915cd4725",
   "metadata": {},
   "outputs": [
    {
     "data": {
      "text/plain": [
       "36.0"
      ]
     },
     "execution_count": 19,
     "metadata": {},
     "output_type": "execute_result"
    }
   ],
   "source": [
    "#  Write a Python program to create a lambda function with two expressions.\n",
    "a = lambda a: (a**3) / a\n",
    "a(6)"
   ]
  },
  {
   "cell_type": "markdown",
   "id": "f1688fc3-c795-41af-b857-22da780456c2",
   "metadata": {},
   "source": [
    "9. Modules"
   ]
  },
  {
   "cell_type": "code",
   "execution_count": 22,
   "id": "c9cf4e35-126d-4704-95b8-bfcb9a6e673f",
   "metadata": {},
   "outputs": [
    {
     "name": "stdout",
     "output_type": "stream",
     "text": [
      "10.0\n",
      "2\n",
      "10\n"
     ]
    }
   ],
   "source": [
    "# Write a Python program to import the math module and use functions like sqrt(), ceil(), floor(). \n",
    "import math\n",
    "print(math.sqrt(100))\n",
    "print(math.ceil(1.50))\n",
    "print(math.floor(10.50))"
   ]
  },
  {
   "cell_type": "code",
   "execution_count": 27,
   "id": "12d44be6-f058-4536-8a55-7542663c2913",
   "metadata": {},
   "outputs": [
    {
     "name": "stdout",
     "output_type": "stream",
     "text": [
      "70\n"
     ]
    }
   ],
   "source": [
    "# Write a Python program to generate random numbers using the random module. \n",
    "import random\n",
    "x = random.randint(1,100)\n",
    "print(x)"
   ]
  }
 ],
 "metadata": {
  "kernelspec": {
   "display_name": "Python 3 (ipykernel)",
   "language": "python",
   "name": "python3"
  },
  "language_info": {
   "codemirror_mode": {
    "name": "ipython",
    "version": 3
   },
   "file_extension": ".py",
   "mimetype": "text/x-python",
   "name": "python",
   "nbconvert_exporter": "python",
   "pygments_lexer": "ipython3",
   "version": "3.12.7"
  }
 },
 "nbformat": 4,
 "nbformat_minor": 5
}
